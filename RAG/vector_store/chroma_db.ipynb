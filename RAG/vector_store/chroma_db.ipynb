{
 "cells": [
  {
   "cell_type": "code",
   "execution_count": 1,
   "id": "1e836625",
   "metadata": {},
   "outputs": [],
   "source": [
    "from langchain.vectorstores import Chroma\n",
    "from langchain_huggingface import HuggingFaceEmbeddings\n",
    "from sklearn.metrics.pairwise import cosine_similarity"
   ]
  },
  {
   "cell_type": "code",
   "execution_count": 2,
   "id": "29421572",
   "metadata": {},
   "outputs": [],
   "source": [
    "from langchain.schema import Document\n",
    "\n",
    "# Create LangChain documents for IPL players\n",
    "\n",
    "doc1 = Document(\n",
    "        page_content=\"Virat Kohli is one of the most successful and consistent batsmen in IPL history. Known for his aggressive batting style and fitness, he has led the Royal Challengers Bangalore in multiple seasons.\",\n",
    "        metadata={\"team\": \"Royal Challengers Bangalore\"}\n",
    "    )\n",
    "doc2 = Document(\n",
    "        page_content=\"Rohit Sharma is the most successful captain in IPL history, leading Mumbai Indians to five titles. He's known for his calm demeanor and ability to play big innings under pressure.\",\n",
    "        metadata={\"team\": \"Mumbai Indians\"}\n",
    "    )\n",
    "doc3 = Document(\n",
    "        page_content=\"MS Dhoni, famously known as Captain Cool, has led Chennai Super Kings to multiple IPL titles. His finishing skills, wicketkeeping, and leadership are legendary.\",\n",
    "        metadata={\"team\": \"Chennai Super Kings\"}\n",
    "    )\n",
    "doc4 = Document(\n",
    "        page_content=\"Jasprit Bumrah is considered one of the best fast bowlers in T20 cricket. Playing for Mumbai Indians, he is known for his yorkers and death-over expertise.\",\n",
    "        metadata={\"team\": \"Mumbai Indians\"}\n",
    "    )\n",
    "doc5 = Document(\n",
    "        page_content=\"Ravindra Jadeja is a dynamic all-rounder who contributes with both bat and ball. Representing Chennai Super Kings, his quick fielding and match-winning performances make him a key player.\",\n",
    "        metadata={\"team\": \"Chennai Super Kings\"}\n",
    "    )\n"
   ]
  },
  {
   "cell_type": "code",
   "execution_count": 3,
   "id": "7a306c96",
   "metadata": {},
   "outputs": [],
   "source": [
    "docs = [doc1 , doc2, doc3 , doc4 , doc5]"
   ]
  },
  {
   "cell_type": "code",
   "execution_count": 5,
   "id": "db9ac043",
   "metadata": {},
   "outputs": [],
   "source": [
    "vector_store = Chroma(\n",
    "    embedding_function=HuggingFaceEmbeddings(model_name=\"sentence-transformers/all-MiniLM-L6-v2\"),\n",
    "    collection_name=\"ipl_players\",\n",
    "    persist_directory=\"./chroma_db\"\n",
    "    \n",
    ")"
   ]
  },
  {
   "cell_type": "code",
   "execution_count": 6,
   "id": "00d1a6bc",
   "metadata": {},
   "outputs": [
    {
     "data": {
      "text/plain": [
       "['ba636b3a-b681-4a96-890f-c8d9c225103b',\n",
       " '29963a3c-e375-422b-af4d-7b3955258f4e',\n",
       " 'dece9904-ea82-4de3-9c48-33d0019dc3db',\n",
       " '4f9bbaf6-7766-4f5e-9313-e27916b63111',\n",
       " 'd1a3c84e-0401-4b9a-8453-6edf9ff5eaa6']"
      ]
     },
     "execution_count": 6,
     "metadata": {},
     "output_type": "execute_result"
    }
   ],
   "source": [
    "vector_store.add_documents(docs)"
   ]
  },
  {
   "cell_type": "code",
   "execution_count": 15,
   "id": "f87d61ff",
   "metadata": {},
   "outputs": [
    {
     "data": {
      "text/plain": [
       "{'ids': ['ba636b3a-b681-4a96-890f-c8d9c225103b',\n",
       "  '29963a3c-e375-422b-af4d-7b3955258f4e',\n",
       "  'dece9904-ea82-4de3-9c48-33d0019dc3db',\n",
       "  '4f9bbaf6-7766-4f5e-9313-e27916b63111',\n",
       "  'd1a3c84e-0401-4b9a-8453-6edf9ff5eaa6'],\n",
       " 'embeddings': array([[-0.00298874,  0.07542371, -0.03584962, ..., -0.0489394 ,\n",
       "         -0.0016045 ,  0.01275017],\n",
       "        [ 0.00127742,  0.03129853, -0.02375376, ..., -0.00518362,\n",
       "         -0.03280614,  0.02737715],\n",
       "        [-0.10265914,  0.0265081 ,  0.02271501, ..., -0.03359745,\n",
       "         -0.07984947, -0.01507709],\n",
       "        [ 0.02123392, -0.02468546, -0.04494374, ..., -0.10995816,\n",
       "          0.00572562,  0.09915379],\n",
       "        [ 0.01873979,  0.04382848, -0.04304256, ..., -0.07801618,\n",
       "         -0.07840681, -0.00304188]], shape=(5, 384)),\n",
       " 'documents': ['Virat Kohli is a former captain of Royal Challengers Bangalore and one of the most successful batsmen in IPL history. Known for his aggressive batting style and fitness, he has numerous records to his name.',\n",
       "  \"Rohit Sharma is the most successful captain in IPL history, leading Mumbai Indians to five titles. He's known for his calm demeanor and ability to play big innings under pressure.\",\n",
       "  'MS Dhoni, famously known as Captain Cool, has led Chennai Super Kings to multiple IPL titles. His finishing skills, wicketkeeping, and leadership are legendary.',\n",
       "  'Jasprit Bumrah is considered one of the best fast bowlers in T20 cricket. Playing for Mumbai Indians, he is known for his yorkers and death-over expertise.',\n",
       "  'Ravindra Jadeja is a dynamic all-rounder who contributes with both bat and ball. Representing Chennai Super Kings, his quick fielding and match-winning performances make him a key player.'],\n",
       " 'uris': None,\n",
       " 'included': ['embeddings', 'documents'],\n",
       " 'data': None,\n",
       " 'metadatas': None}"
      ]
     },
     "execution_count": 15,
     "metadata": {},
     "output_type": "execute_result"
    }
   ],
   "source": [
    "vector_store.get(include=[\"embeddings\",\"documents\"])"
   ]
  },
  {
   "cell_type": "code",
   "execution_count": null,
   "id": "2752cccd",
   "metadata": {},
   "outputs": [],
   "source": []
  },
  {
   "cell_type": "code",
   "execution_count": 9,
   "id": "6f69fe87",
   "metadata": {},
   "outputs": [
    {
     "data": {
      "text/plain": [
       "[Document(metadata={'team': 'Mumbai Indians'}, page_content=\"Rohit Sharma is the most successful captain in IPL history, leading Mumbai Indians to five titles. He's known for his calm demeanor and ability to play big innings under pressure.\"),\n",
       " Document(metadata={'team': 'Chennai Super Kings'}, page_content='MS Dhoni, famously known as Captain Cool, has led Chennai Super Kings to multiple IPL titles. His finishing skills, wicketkeeping, and leadership are legendary.')]"
      ]
     },
     "execution_count": 9,
     "metadata": {},
     "output_type": "execute_result"
    }
   ],
   "source": [
    "vector_store.similarity_search(\"Who is the best captain in IPL?\", k=2)"
   ]
  },
  {
   "cell_type": "code",
   "execution_count": 10,
   "id": "2f7943ca",
   "metadata": {},
   "outputs": [
    {
     "data": {
      "text/plain": [
       "[(Document(metadata={'team': 'Mumbai Indians'}, page_content=\"Rohit Sharma is the most successful captain in IPL history, leading Mumbai Indians to five titles. He's known for his calm demeanor and ability to play big innings under pressure.\"),\n",
       "  0.5215307474136353),\n",
       " (Document(metadata={'team': 'Chennai Super Kings'}, page_content='MS Dhoni, famously known as Captain Cool, has led Chennai Super Kings to multiple IPL titles. His finishing skills, wicketkeeping, and leadership are legendary.'),\n",
       "  0.780189037322998)]"
      ]
     },
     "execution_count": 10,
     "metadata": {},
     "output_type": "execute_result"
    }
   ],
   "source": [
    "vector_store.similarity_search_with_score(\"Who is the best captain in IPL?\", k=2)"
   ]
  },
  {
   "cell_type": "code",
   "execution_count": 11,
   "id": "c417f1a3",
   "metadata": {},
   "outputs": [
    {
     "data": {
      "text/plain": [
       "[Document(metadata={'team': 'Mumbai Indians'}, page_content=\"Rohit Sharma is the most successful captain in IPL history, leading Mumbai Indians to five titles. He's known for his calm demeanor and ability to play big innings under pressure.\"),\n",
       " Document(metadata={'team': 'Mumbai Indians'}, page_content='Jasprit Bumrah is considered one of the best fast bowlers in T20 cricket. Playing for Mumbai Indians, he is known for his yorkers and death-over expertise.')]"
      ]
     },
     "execution_count": 11,
     "metadata": {},
     "output_type": "execute_result"
    }
   ],
   "source": [
    "#meta data filtering\n",
    "vector_store.similarity_search(\"\", k=2, filter={\"team\":\"Mumbai Indians\"})"
   ]
  },
  {
   "cell_type": "code",
   "execution_count": 14,
   "id": "3ac2fbd2",
   "metadata": {},
   "outputs": [],
   "source": [
    "#update documents\n",
    "updated_doc1 = Document(\n",
    "    page_content=\"Virat Kohli is a former captain of Royal Challengers Bangalore and one of the most successful batsmen in IPL history. Known for his aggressive batting style and fitness, he has numerous records to his name.\",\n",
    "    metadata={\"team\": \"Royal Challengers Bangalore\"}\n",
    ")\n",
    "\n",
    "vector_store.update_document(document_id='ba636b3a-b681-4a96-890f-c8d9c225103b', document=updated_doc1) "
   ]
  },
  {
   "cell_type": "code",
   "execution_count": 18,
   "id": "a9220b41",
   "metadata": {},
   "outputs": [],
   "source": [
    "#delete document\n",
    "vector_store.delete(ids='ba636b3a-b681-4a96-890f-c8d9c225103b')"
   ]
  },
  {
   "cell_type": "code",
   "execution_count": 19,
   "id": "4a742378",
   "metadata": {},
   "outputs": [
    {
     "data": {
      "text/plain": [
       "{'ids': ['29963a3c-e375-422b-af4d-7b3955258f4e',\n",
       "  'dece9904-ea82-4de3-9c48-33d0019dc3db',\n",
       "  '4f9bbaf6-7766-4f5e-9313-e27916b63111',\n",
       "  'd1a3c84e-0401-4b9a-8453-6edf9ff5eaa6'],\n",
       " 'embeddings': array([[ 0.00127742,  0.03129853, -0.02375376, ..., -0.00518362,\n",
       "         -0.03280614,  0.02737715],\n",
       "        [-0.10265914,  0.0265081 ,  0.02271501, ..., -0.03359745,\n",
       "         -0.07984947, -0.01507709],\n",
       "        [ 0.02123392, -0.02468546, -0.04494374, ..., -0.10995816,\n",
       "          0.00572562,  0.09915379],\n",
       "        [ 0.01873979,  0.04382848, -0.04304256, ..., -0.07801618,\n",
       "         -0.07840681, -0.00304188]], shape=(4, 384)),\n",
       " 'documents': [\"Rohit Sharma is the most successful captain in IPL history, leading Mumbai Indians to five titles. He's known for his calm demeanor and ability to play big innings under pressure.\",\n",
       "  'MS Dhoni, famously known as Captain Cool, has led Chennai Super Kings to multiple IPL titles. His finishing skills, wicketkeeping, and leadership are legendary.',\n",
       "  'Jasprit Bumrah is considered one of the best fast bowlers in T20 cricket. Playing for Mumbai Indians, he is known for his yorkers and death-over expertise.',\n",
       "  'Ravindra Jadeja is a dynamic all-rounder who contributes with both bat and ball. Representing Chennai Super Kings, his quick fielding and match-winning performances make him a key player.'],\n",
       " 'uris': None,\n",
       " 'included': ['embeddings', 'metadatas', 'documents'],\n",
       " 'data': None,\n",
       " 'metadatas': [{'team': 'Mumbai Indians'},\n",
       "  {'team': 'Chennai Super Kings'},\n",
       "  {'team': 'Mumbai Indians'},\n",
       "  {'team': 'Chennai Super Kings'}]}"
      ]
     },
     "execution_count": 19,
     "metadata": {},
     "output_type": "execute_result"
    }
   ],
   "source": [
    "vector_store.get(include=[\"embeddings\", \"metadatas\", \"documents\"])"
   ]
  }
 ],
 "metadata": {
  "kernelspec": {
   "display_name": "venv",
   "language": "python",
   "name": "python3"
  },
  "language_info": {
   "codemirror_mode": {
    "name": "ipython",
    "version": 3
   },
   "file_extension": ".py",
   "mimetype": "text/x-python",
   "name": "python",
   "nbconvert_exporter": "python",
   "pygments_lexer": "ipython3",
   "version": "3.13.5"
  }
 },
 "nbformat": 4,
 "nbformat_minor": 5
}
